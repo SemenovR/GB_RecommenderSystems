{
 "cells": [
  {
   "cell_type": "markdown",
   "metadata": {},
   "source": [
    "# Финальный проект"
   ]
  },
  {
   "cell_type": "markdown",
   "metadata": {},
   "source": [
    "Мы уже прошли всю необходимую теорию для финального проекта. Проект осуществляется на данных из вебинара (данные считаны в начале ДЗ).\n",
    "Рекомендуем вам **начать делать проект сразу после этого домашнего задания**\n",
    "- Целевая метрика - precision@5. Порог для уcпешной сдачи проекта precision@5 > 25%\n",
    "- Будет public тестовый датасет, на котором вы сможете измерять метрику\n",
    "- Также будет private тестовый датасет для измерения финального качества\n",
    "- НЕ обязательно, но крайне желательно использовать 2-ух уровневые рекоммендательные системы в проекте\n",
    "- Вы сдаете код проекта в виде github репозитория и csv файл с рекомендациями \n",
    "\n",
    "**Основное**\n",
    "- Целевая метрика precision@5\n",
    "- Бейзлайн решения - [MainRecommender](https://github.com/geangohn/recsys-tutorial/blob/master/src/recommenders.py)\n",
    "- Сдаем ссылку на github с решением. На github должен быть файл recommendations.csv (user_id | [rec_1, rec_2, ...] с рекомендациями. rec_i - реальные id item-ов (из retail_train.csv)\n",
    "\n",
    "**Hints:** \n",
    "\n",
    "Сначала просто попробуйте разные параметры MainRecommender:  \n",
    "- N в топ-N товарах при формировании user-item матирцы (сейчас топ-5000)  \n",
    "- Различные веса в user-item матрице (0/1, кол-во покупок, log(кол-во покупок + 1), сумма покупки, ...)  \n",
    "- Разные взвешивания матрицы (TF-IDF, BM25 - у него есть параметры)  \n",
    "- Разные смешивания рекомендаций (обратите внимание на бейзлайн - прошлые покупки юзера)  \n",
    "\n",
    "Сделайте MVP - минимально рабочий продукт - (пусть даже top-popular), а потом его улучшайте\n",
    "\n",
    "Если вы делаете двухуровневую модель - следите за валидацией "
   ]
  },
  {
   "cell_type": "markdown",
   "metadata": {},
   "source": [
    "### Решение"
   ]
  },
  {
   "cell_type": "code",
   "execution_count": 845,
   "metadata": {},
   "outputs": [],
   "source": [
    "import pandas as pd\n",
    "\n",
    "from sklearn.ensemble import RandomForestClassifier\n",
    "from sklearn.preprocessing import LabelEncoder\n",
    "from collections import defaultdict\n",
    "\n",
    "import os, sys\n",
    "module_path = os.path.abspath(os.path.join(os.pardir))\n",
    "if module_path not in sys.path:\n",
    "    sys.path.append(module_path)\n",
    "\n",
    "# Написанные нами функции\n",
    "from src.metrics import precision_at_k, recall_at_k\n",
    "from src.utils import prefilter_items\n",
    "from src.recommenders import MainRecommender"
   ]
  },
  {
   "cell_type": "code",
   "execution_count": 846,
   "metadata": {},
   "outputs": [],
   "source": [
    "K = 5 # Число рекомендаций\n",
    "N_POPULAR = 500 # Топ популярных для префильтра\n",
    "N_CANDIDATES = 100 # Число кандидатов"
   ]
  },
  {
   "cell_type": "markdown",
   "metadata": {},
   "source": [
    "#### Загрузка данных и схема валидации"
   ]
  },
  {
   "cell_type": "code",
   "execution_count": 847,
   "metadata": {},
   "outputs": [],
   "source": [
    "data_train = pd.read_csv('../raw_data/retail_train.csv')\n",
    "item_features = pd.read_csv('../raw_data/product.csv')\n",
    "user_features = pd.read_csv('../raw_data/hh_demographic.csv')\n",
    "\n",
    "item_features.columns = [col.lower() for col in item_features.columns]\n",
    "user_features.columns = [col.lower() for col in user_features.columns]\n",
    "item_features.rename(columns={'product_id': 'item_id'}, inplace=True)\n",
    "user_features.rename(columns={'household_key': 'user_id'}, inplace=True)"
   ]
  },
  {
   "cell_type": "markdown",
   "metadata": {},
   "source": [
    "#### Схема валидации"
   ]
  },
  {
   "cell_type": "code",
   "execution_count": 848,
   "metadata": {},
   "outputs": [
    {
     "data": {
      "text/html": [
       "<div>\n",
       "<style scoped>\n",
       "    .dataframe tbody tr th:only-of-type {\n",
       "        vertical-align: middle;\n",
       "    }\n",
       "\n",
       "    .dataframe tbody tr th {\n",
       "        vertical-align: top;\n",
       "    }\n",
       "\n",
       "    .dataframe thead th {\n",
       "        text-align: right;\n",
       "    }\n",
       "</style>\n",
       "<table border=\"1\" class=\"dataframe\">\n",
       "  <thead>\n",
       "    <tr style=\"text-align: right;\">\n",
       "      <th></th>\n",
       "      <th>user_id</th>\n",
       "      <th>basket_id</th>\n",
       "      <th>day</th>\n",
       "      <th>item_id</th>\n",
       "      <th>quantity</th>\n",
       "      <th>sales_value</th>\n",
       "      <th>store_id</th>\n",
       "      <th>retail_disc</th>\n",
       "      <th>trans_time</th>\n",
       "      <th>week_no</th>\n",
       "      <th>coupon_disc</th>\n",
       "      <th>coupon_match_disc</th>\n",
       "    </tr>\n",
       "  </thead>\n",
       "  <tbody>\n",
       "    <tr>\n",
       "      <th>0</th>\n",
       "      <td>2375</td>\n",
       "      <td>26984851472</td>\n",
       "      <td>1</td>\n",
       "      <td>1004906</td>\n",
       "      <td>1</td>\n",
       "      <td>1.39</td>\n",
       "      <td>364</td>\n",
       "      <td>-0.6</td>\n",
       "      <td>1631</td>\n",
       "      <td>1</td>\n",
       "      <td>0.0</td>\n",
       "      <td>0.0</td>\n",
       "    </tr>\n",
       "    <tr>\n",
       "      <th>1</th>\n",
       "      <td>2375</td>\n",
       "      <td>26984851472</td>\n",
       "      <td>1</td>\n",
       "      <td>1033142</td>\n",
       "      <td>1</td>\n",
       "      <td>0.82</td>\n",
       "      <td>364</td>\n",
       "      <td>0.0</td>\n",
       "      <td>1631</td>\n",
       "      <td>1</td>\n",
       "      <td>0.0</td>\n",
       "      <td>0.0</td>\n",
       "    </tr>\n",
       "  </tbody>\n",
       "</table>\n",
       "</div>"
      ],
      "text/plain": [
       "   user_id    basket_id  day  item_id  quantity  sales_value  store_id  \\\n",
       "0     2375  26984851472    1  1004906         1         1.39       364   \n",
       "1     2375  26984851472    1  1033142         1         0.82       364   \n",
       "\n",
       "   retail_disc  trans_time  week_no  coupon_disc  coupon_match_disc  \n",
       "0         -0.6        1631        1          0.0                0.0  \n",
       "1          0.0        1631        1          0.0                0.0  "
      ]
     },
     "execution_count": 848,
     "metadata": {},
     "output_type": "execute_result"
    }
   ],
   "source": [
    "# -- давние покупки -- | -- 6 недель -- | -- 3 недель -- \n",
    "val_lvl_1_size_weeks = 6\n",
    "val_lvl_2_size_weeks = 3\n",
    "\n",
    "data_train_lvl_1 = data_train[data_train['week_no'] < data_train['week_no'].max() - \n",
    "                              (val_lvl_1_size_weeks + val_lvl_2_size_weeks)]\n",
    "data_train_lvl_2 = data_train[(data_train['week_no'] >= data_train['week_no'].max() - \n",
    "                               (val_lvl_1_size_weeks + val_lvl_2_size_weeks)) &\n",
    "                      (data_train['week_no'] < data_train['week_no'].max() - (val_lvl_2_size_weeks))]\n",
    "data_val_lvl_2 = data_train[data_train['week_no'] >= data_train['week_no'].max() - val_lvl_2_size_weeks]\n",
    "\n",
    "data_train_lvl_1.head(2)"
   ]
  },
  {
   "cell_type": "markdown",
   "metadata": {},
   "source": [
    "#### Первичная фильтрация данных"
   ]
  },
  {
   "cell_type": "code",
   "execution_count": 849,
   "metadata": {},
   "outputs": [
    {
     "name": "stdout",
     "output_type": "stream",
     "text": [
      "Decreased # items from 83685 to 501\n"
     ]
    }
   ],
   "source": [
    "n_items_before = data_train_lvl_1['item_id'].nunique()\n",
    "\n",
    "data_train_lvl_1 = prefilter_items(data_train_lvl_1, take_n_popular=N_POPULAR) #item_features=item_features\n",
    "\n",
    "n_items_after = data_train_lvl_1['item_id'].nunique()\n",
    "print('Decreased # items from {} to {}'.format(n_items_before, n_items_after))"
   ]
  },
  {
   "cell_type": "markdown",
   "metadata": {},
   "source": [
    "#### Обучение модели первого уровня"
   ]
  },
  {
   "cell_type": "code",
   "execution_count": 850,
   "metadata": {},
   "outputs": [
    {
     "data": {
      "application/vnd.jupyter.widget-view+json": {
       "model_id": "fbd96a7fa96f433c8e0a9a3588168344",
       "version_major": 2,
       "version_minor": 0
      },
      "text/plain": [
       "HBox(children=(FloatProgress(value=0.0, max=501.0), HTML(value='')))"
      ]
     },
     "metadata": {},
     "output_type": "display_data"
    },
    {
     "name": "stdout",
     "output_type": "stream",
     "text": [
      "\n"
     ]
    }
   ],
   "source": [
    "recommender = MainRecommender(data_train_lvl_1, als=False, own=True)"
   ]
  },
  {
   "cell_type": "markdown",
   "metadata": {},
   "source": [
    "#### Получаем список актуальных покупок и кандидатов для data_train_lvl_2"
   ]
  },
  {
   "cell_type": "code",
   "execution_count": 851,
   "metadata": {},
   "outputs": [],
   "source": [
    "def get_actual(data):\n",
    "    # Получение актуальных покупок\n",
    "    result = data.groupby('user_id')['item_id'].unique().reset_index()\n",
    "    result.columns=['user_id', 'actual']\n",
    "    return result"
   ]
  },
  {
   "cell_type": "code",
   "execution_count": 852,
   "metadata": {},
   "outputs": [],
   "source": [
    "def get_candidates(model, data):\n",
    "    # Получение кандидатов на покупку\n",
    "    data['candidates'] = data['user_id'].apply(lambda x: model.get_own_recommendations(x, N=N_CANDIDATES))\n",
    "    return data"
   ]
  },
  {
   "cell_type": "code",
   "execution_count": 853,
   "metadata": {},
   "outputs": [
    {
     "data": {
      "text/html": [
       "<div>\n",
       "<style scoped>\n",
       "    .dataframe tbody tr th:only-of-type {\n",
       "        vertical-align: middle;\n",
       "    }\n",
       "\n",
       "    .dataframe tbody tr th {\n",
       "        vertical-align: top;\n",
       "    }\n",
       "\n",
       "    .dataframe thead th {\n",
       "        text-align: right;\n",
       "    }\n",
       "</style>\n",
       "<table border=\"1\" class=\"dataframe\">\n",
       "  <thead>\n",
       "    <tr style=\"text-align: right;\">\n",
       "      <th></th>\n",
       "      <th>user_id</th>\n",
       "      <th>actual</th>\n",
       "      <th>candidates</th>\n",
       "    </tr>\n",
       "  </thead>\n",
       "  <tbody>\n",
       "    <tr>\n",
       "      <th>0</th>\n",
       "      <td>1</td>\n",
       "      <td>[853529, 865456, 867607, 872137, 874905, 87524...</td>\n",
       "      <td>[940947, 9527290, 986947, 995242, 861272, 1006...</td>\n",
       "    </tr>\n",
       "    <tr>\n",
       "      <th>1</th>\n",
       "      <td>2</td>\n",
       "      <td>[15830248, 838136, 839656, 861272, 866211, 870...</td>\n",
       "      <td>[1075368, 8090521, 1040807, 940947, 5569230, 1...</td>\n",
       "    </tr>\n",
       "  </tbody>\n",
       "</table>\n",
       "</div>"
      ],
      "text/plain": [
       "   user_id                                             actual  \\\n",
       "0        1  [853529, 865456, 867607, 872137, 874905, 87524...   \n",
       "1        2  [15830248, 838136, 839656, 861272, 866211, 870...   \n",
       "\n",
       "                                          candidates  \n",
       "0  [940947, 9527290, 986947, 995242, 861272, 1006...  \n",
       "1  [1075368, 8090521, 1040807, 940947, 5569230, 1...  "
      ]
     },
     "execution_count": 853,
     "metadata": {},
     "output_type": "execute_result"
    }
   ],
   "source": [
    "result_lvl_2 = get_actual(data_train_lvl_2)\n",
    "result_lvl_2 = get_candidates(recommender, result_lvl_2)\n",
    "result_lvl_2.head(2)"
   ]
  },
  {
   "cell_type": "markdown",
   "metadata": {},
   "source": [
    "#### Размечаем данные для второй модели"
   ]
  },
  {
   "cell_type": "code",
   "execution_count": 854,
   "metadata": {},
   "outputs": [],
   "source": [
    "def get_X_data(data):\n",
    "    # Формирование X данных\n",
    "    s = data.apply(lambda x: pd.Series(x['candidates']), axis=1).stack().reset_index(level=1, drop=True)\n",
    "    s.name = 'item_id'\n",
    "    return data.drop(['actual', 'candidates'], axis=1).join(s)"
   ]
  },
  {
   "cell_type": "code",
   "execution_count": 855,
   "metadata": {},
   "outputs": [],
   "source": [
    "def mark_target(data, result):\n",
    "    # Разметка данных\n",
    "    users_lvl_2 = get_X_data(result)\n",
    "    targets_lvl_2 = data[['user_id', 'item_id']].copy()\n",
    "    targets_lvl_2['target'] = 1  # тут только покупки \n",
    "    targets_lvl_2 = users_lvl_2.merge(targets_lvl_2, on=['user_id', 'item_id'], how='left')\n",
    "    targets_lvl_2['target'].fillna(0, inplace= True)\n",
    "    \n",
    "    return targets_lvl_2"
   ]
  },
  {
   "cell_type": "code",
   "execution_count": 856,
   "metadata": {},
   "outputs": [
    {
     "data": {
      "text/html": [
       "<div>\n",
       "<style scoped>\n",
       "    .dataframe tbody tr th:only-of-type {\n",
       "        vertical-align: middle;\n",
       "    }\n",
       "\n",
       "    .dataframe tbody tr th {\n",
       "        vertical-align: top;\n",
       "    }\n",
       "\n",
       "    .dataframe thead th {\n",
       "        text-align: right;\n",
       "    }\n",
       "</style>\n",
       "<table border=\"1\" class=\"dataframe\">\n",
       "  <thead>\n",
       "    <tr style=\"text-align: right;\">\n",
       "      <th></th>\n",
       "      <th>user_id</th>\n",
       "      <th>item_id</th>\n",
       "      <th>target</th>\n",
       "    </tr>\n",
       "  </thead>\n",
       "  <tbody>\n",
       "    <tr>\n",
       "      <th>0</th>\n",
       "      <td>1</td>\n",
       "      <td>940947</td>\n",
       "      <td>1.0</td>\n",
       "    </tr>\n",
       "    <tr>\n",
       "      <th>1</th>\n",
       "      <td>1</td>\n",
       "      <td>940947</td>\n",
       "      <td>1.0</td>\n",
       "    </tr>\n",
       "  </tbody>\n",
       "</table>\n",
       "</div>"
      ],
      "text/plain": [
       "   user_id  item_id  target\n",
       "0        1   940947     1.0\n",
       "1        1   940947     1.0"
      ]
     },
     "execution_count": 856,
     "metadata": {},
     "output_type": "execute_result"
    }
   ],
   "source": [
    "X_y = mark_target(data_train_lvl_2, result_lvl_2)\n",
    "X_y.head(2)"
   ]
  },
  {
   "cell_type": "markdown",
   "metadata": {},
   "source": [
    "#### Новые фичи"
   ]
  },
  {
   "cell_type": "code",
   "execution_count": 857,
   "metadata": {},
   "outputs": [],
   "source": [
    "def featuring(data_target, data_train=None):\n",
    "    # Добавляем внешние данные\n",
    "    data_target = data_target.merge(item_features, on='item_id', how='left')\n",
    "    data_target = data_target.merge(user_features, on='user_id', how='left')\n",
    "    \n",
    "    if data_train is not featuring.__defaults__[0]:\n",
    "        # Средняя цена товара\n",
    "        featuring.item_mean_price = pd.DataFrame()\n",
    "        featuring.item_mean_price[['item_id', 'sum_sales']] = \\\n",
    "            data_train.groupby(['item_id'])['sales_value'].sum().reset_index()[['item_id', 'sales_value']]\n",
    "        featuring.item_mean_price['sum_quantity'] = data_train.groupby(['item_id'])['quantity'].sum().reset_index()['quantity']\n",
    "        featuring.item_mean_price['item_mean_price'] = \\\n",
    "            featuring.item_mean_price['sum_sales'] / featuring.item_mean_price['sum_quantity']\n",
    "        featuring.item_mean_price = featuring.item_mean_price.drop(['sum_sales', 'sum_quantity'], axis=1)\n",
    "\n",
    "        # Среднее число продаж товара\n",
    "        featuring.item_mean_quantity = pd.DataFrame()\n",
    "        featuring.item_mean_quantity[['item_id', 'item_mean_quantity']] = \\\n",
    "            data_train.groupby(['item_id'])['quantity'].mean().reset_index()[['item_id', 'quantity']]\n",
    "\n",
    "        # Средняя сумма покупок пользователем в категории \n",
    "        featuring.user_department_mean_sales = pd.DataFrame()\n",
    "        featuring.user_department_mean_sales[['user_id', 'department', 'user_department_mean_sales']] = \\\n",
    "            data_train.merge(item_features, on='item_id', how='left').groupby(['user_id', 'department'])\\\n",
    "            ['sales_value'].mean().reset_index()\n",
    "\n",
    "        # Средняя сумма покупок пользователем товара\n",
    "        featuring.user_item_mean_sales = pd.DataFrame()\n",
    "        featuring.user_item_mean_sales[['user_id', 'item_id', 'user_item_mean_sales']] = \\\n",
    "            data_train.groupby(['user_id', 'item_id'])['sales_value'].mean().reset_index()\n",
    "\n",
    "    # Добавляем новые фичи в датасет\n",
    "    data_target = data_target.merge(featuring.item_mean_price, on='item_id', how='left')\n",
    "    data_target = data_target.merge(featuring.item_mean_quantity, on='item_id', how='left')\n",
    "    data_target = data_target.merge(featuring.user_department_mean_sales, on=['user_id', 'department'], how='left')\n",
    "    data_target = data_target.merge(featuring.user_item_mean_sales, on=['user_id', 'item_id'], how='left')\n",
    "    \n",
    "    data_target[['item_mean_price', \n",
    "                 'item_mean_quantity', \n",
    "                 'user_department_mean_sales', \n",
    "                 'user_item_mean_sales']] = \\\n",
    "        data_target[['item_mean_price', \n",
    "                     'item_mean_quantity', \n",
    "                     'user_department_mean_sales', \n",
    "                     'user_item_mean_sales']].fillna(0)\n",
    "\n",
    "    return data_target"
   ]
  },
  {
   "cell_type": "code",
   "execution_count": 858,
   "metadata": {},
   "outputs": [],
   "source": [
    "X_y = featuring(X_y, data_train_lvl_2)"
   ]
  },
  {
   "cell_type": "markdown",
   "metadata": {},
   "source": [
    "#### Кодируем категориальные признаки"
   ]
  },
  {
   "cell_type": "code",
   "execution_count": 859,
   "metadata": {},
   "outputs": [],
   "source": [
    "# Все категориальные признаки\n",
    "cat_feats = ['manufacturer', 'department', 'brand', 'commodity_desc', 'sub_commodity_desc', \n",
    "             'curr_size_of_product', 'age_desc', 'marital_status_code', 'income_desc', 'homeowner_desc', 'hh_comp_desc', \n",
    "             'household_size_desc', 'kid_category_desc']\n",
    "\n",
    "# Категориальные признаки для трансформации\n",
    "cat_feats_tr = ['department', 'brand', 'commodity_desc', 'sub_commodity_desc', 'curr_size_of_product', \n",
    "    'age_desc', 'marital_status_code', 'income_desc', 'homeowner_desc', 'hh_comp_desc', \n",
    "    'household_size_desc', 'kid_category_desc']"
   ]
  },
  {
   "cell_type": "code",
   "execution_count": 860,
   "metadata": {},
   "outputs": [],
   "source": [
    "dd_le = defaultdict(LabelEncoder)\n",
    "\n",
    "def fit_cat_encoder(data, cat_features):\n",
    "    for c in cat_features:\n",
    "        dd_le[c].fit(data[c].fillna(\"NA\").append(pd.Series(['NA']))) \n",
    "\n",
    "def transform_cat_encoder(data, cat_features):\n",
    "    for c in cat_features:\n",
    "        data[c] = dd_le[c].transform(data[c].fillna(\"NA\")) \n",
    "    return data"
   ]
  },
  {
   "cell_type": "code",
   "execution_count": 861,
   "metadata": {},
   "outputs": [],
   "source": [
    "fit_cat_encoder(user_features, ['age_desc', 'marital_status_code', 'income_desc', 'homeowner_desc', 'hh_comp_desc', \n",
    "    'household_size_desc', 'kid_category_desc'])\n",
    "fit_cat_encoder(item_features, ['department', 'brand', 'commodity_desc', 'sub_commodity_desc', 'curr_size_of_product'])"
   ]
  },
  {
   "cell_type": "markdown",
   "metadata": {},
   "source": [
    "#### Разбиваем на train и test и обучаем"
   ]
  },
  {
   "cell_type": "code",
   "execution_count": 862,
   "metadata": {},
   "outputs": [],
   "source": [
    "def prepare_X(X):\n",
    "    # Подготовка X данных перед обучением/предсказанием\n",
    "    X = transform_cat_encoder(X, cat_feats_tr)\n",
    "    X[cat_feats] = X[cat_feats].astype('category')\n",
    "    return X"
   ]
  },
  {
   "cell_type": "code",
   "execution_count": 863,
   "metadata": {},
   "outputs": [],
   "source": [
    "def split_train_test(data):\n",
    "    # Разделение на X и y\n",
    "    X_train = data.drop('target', axis=1)\n",
    "    X_train = prepare_X(X_train)\n",
    "    y_train = data['target']    \n",
    "    return X_train, y_train"
   ]
  },
  {
   "cell_type": "code",
   "execution_count": 864,
   "metadata": {},
   "outputs": [],
   "source": [
    "X_train, y_train = split_train_test(X_y)"
   ]
  },
  {
   "cell_type": "code",
   "execution_count": 865,
   "metadata": {},
   "outputs": [],
   "source": [
    "# Обучаемые признаки\n",
    "train_f = X_train.columns.drop(['user_id', 'item_id'])"
   ]
  },
  {
   "cell_type": "code",
   "execution_count": 866,
   "metadata": {},
   "outputs": [
    {
     "data": {
      "text/plain": [
       "RandomForestClassifier(n_estimators=10, n_jobs=8, random_state=27,\n",
       "                       verbose=False)"
      ]
     },
     "execution_count": 866,
     "metadata": {},
     "output_type": "execute_result"
    }
   ],
   "source": [
    "lgb = RandomForestClassifier(\n",
    "    n_estimators=10,\n",
    "    verbose=False,\n",
    "    n_jobs=8,\n",
    "    random_state=27\n",
    ")\n",
    "lgb.fit(X_train[train_f], y_train)"
   ]
  },
  {
   "cell_type": "markdown",
   "metadata": {},
   "source": [
    "#### Берем топ-k предсказаний для data_train_lvl_2, ранжированных по вероятности, для каждого юзера"
   ]
  },
  {
   "cell_type": "code",
   "execution_count": 867,
   "metadata": {},
   "outputs": [],
   "source": [
    "def get_model2(model, X, k):\n",
    "    # Получение данных модели второго уровня\n",
    "    X['preds'] = model.predict_proba(X[train_f])[:, 1]\n",
    "    result = X.sort_values(['user_id', 'preds'], ascending=False).groupby('user_id').head(k).\\\n",
    "        groupby('user_id')['item_id'].unique().reset_index()\n",
    "    result.rename(columns={'item_id': 'model2'}, inplace=True)\n",
    "    return result"
   ]
  },
  {
   "cell_type": "code",
   "execution_count": 868,
   "metadata": {},
   "outputs": [
    {
     "data": {
      "text/html": [
       "<div>\n",
       "<style scoped>\n",
       "    .dataframe tbody tr th:only-of-type {\n",
       "        vertical-align: middle;\n",
       "    }\n",
       "\n",
       "    .dataframe tbody tr th {\n",
       "        vertical-align: top;\n",
       "    }\n",
       "\n",
       "    .dataframe thead th {\n",
       "        text-align: right;\n",
       "    }\n",
       "</style>\n",
       "<table border=\"1\" class=\"dataframe\">\n",
       "  <thead>\n",
       "    <tr style=\"text-align: right;\">\n",
       "      <th></th>\n",
       "      <th>user_id</th>\n",
       "      <th>model2</th>\n",
       "    </tr>\n",
       "  </thead>\n",
       "  <tbody>\n",
       "    <tr>\n",
       "      <th>0</th>\n",
       "      <td>1</td>\n",
       "      <td>[940947, 995242]</td>\n",
       "    </tr>\n",
       "    <tr>\n",
       "      <th>1</th>\n",
       "      <td>2</td>\n",
       "      <td>[1133018, 901062, 861272, 1106523, 916122]</td>\n",
       "    </tr>\n",
       "  </tbody>\n",
       "</table>\n",
       "</div>"
      ],
      "text/plain": [
       "   user_id                                      model2\n",
       "0        1                            [940947, 995242]\n",
       "1        2  [1133018, 901062, 861272, 1106523, 916122]"
      ]
     },
     "execution_count": 868,
     "metadata": {},
     "output_type": "execute_result"
    }
   ],
   "source": [
    "model2 = get_model2(lgb, X_train, K)\n",
    "model2.head(2)"
   ]
  },
  {
   "cell_type": "markdown",
   "metadata": {},
   "source": [
    "#### Находим рекомендации по первой модели"
   ]
  },
  {
   "cell_type": "code",
   "execution_count": 869,
   "metadata": {},
   "outputs": [],
   "source": [
    "def get_model1(model, data, k):\n",
    "    # Получение данных модели первого уровня\n",
    "    model1 = data.copy()\n",
    "    model1['model1'] = model1['user_id'].apply(lambda x: model.get_own_recommendations(x, N=k))\n",
    "    return model1[['user_id', 'model1']]"
   ]
  },
  {
   "cell_type": "code",
   "execution_count": 870,
   "metadata": {},
   "outputs": [
    {
     "data": {
      "text/html": [
       "<div>\n",
       "<style scoped>\n",
       "    .dataframe tbody tr th:only-of-type {\n",
       "        vertical-align: middle;\n",
       "    }\n",
       "\n",
       "    .dataframe tbody tr th {\n",
       "        vertical-align: top;\n",
       "    }\n",
       "\n",
       "    .dataframe thead th {\n",
       "        text-align: right;\n",
       "    }\n",
       "</style>\n",
       "<table border=\"1\" class=\"dataframe\">\n",
       "  <thead>\n",
       "    <tr style=\"text-align: right;\">\n",
       "      <th></th>\n",
       "      <th>user_id</th>\n",
       "      <th>model1</th>\n",
       "    </tr>\n",
       "  </thead>\n",
       "  <tbody>\n",
       "    <tr>\n",
       "      <th>0</th>\n",
       "      <td>1</td>\n",
       "      <td>[940947, 9527290, 986947, 995242, 861272]</td>\n",
       "    </tr>\n",
       "    <tr>\n",
       "      <th>1</th>\n",
       "      <td>2</td>\n",
       "      <td>[1075368, 8090521, 1040807, 940947, 5569230]</td>\n",
       "    </tr>\n",
       "  </tbody>\n",
       "</table>\n",
       "</div>"
      ],
      "text/plain": [
       "   user_id                                        model1\n",
       "0        1     [940947, 9527290, 986947, 995242, 861272]\n",
       "1        2  [1075368, 8090521, 1040807, 940947, 5569230]"
      ]
     },
     "execution_count": 870,
     "metadata": {},
     "output_type": "execute_result"
    }
   ],
   "source": [
    "model1 = get_model1(recommender, result_lvl_2, K)\n",
    "model1.head(2)"
   ]
  },
  {
   "cell_type": "markdown",
   "metadata": {},
   "source": [
    "#### Сливаем всё в одну таблицу"
   ]
  },
  {
   "cell_type": "code",
   "execution_count": 871,
   "metadata": {},
   "outputs": [
    {
     "data": {
      "text/html": [
       "<div>\n",
       "<style scoped>\n",
       "    .dataframe tbody tr th:only-of-type {\n",
       "        vertical-align: middle;\n",
       "    }\n",
       "\n",
       "    .dataframe tbody tr th {\n",
       "        vertical-align: top;\n",
       "    }\n",
       "\n",
       "    .dataframe thead th {\n",
       "        text-align: right;\n",
       "    }\n",
       "</style>\n",
       "<table border=\"1\" class=\"dataframe\">\n",
       "  <thead>\n",
       "    <tr style=\"text-align: right;\">\n",
       "      <th></th>\n",
       "      <th>user_id</th>\n",
       "      <th>actual</th>\n",
       "      <th>candidates</th>\n",
       "      <th>model1</th>\n",
       "      <th>model2</th>\n",
       "    </tr>\n",
       "  </thead>\n",
       "  <tbody>\n",
       "    <tr>\n",
       "      <th>0</th>\n",
       "      <td>1</td>\n",
       "      <td>[853529, 865456, 867607, 872137, 874905, 87524...</td>\n",
       "      <td>[940947, 9527290, 986947, 995242, 861272, 1006...</td>\n",
       "      <td>[940947, 9527290, 986947, 995242, 861272]</td>\n",
       "      <td>[940947, 995242]</td>\n",
       "    </tr>\n",
       "    <tr>\n",
       "      <th>1</th>\n",
       "      <td>2</td>\n",
       "      <td>[15830248, 838136, 839656, 861272, 866211, 870...</td>\n",
       "      <td>[1075368, 8090521, 1040807, 940947, 5569230, 1...</td>\n",
       "      <td>[1075368, 8090521, 1040807, 940947, 5569230]</td>\n",
       "      <td>[1133018, 901062, 861272, 1106523, 916122]</td>\n",
       "    </tr>\n",
       "  </tbody>\n",
       "</table>\n",
       "</div>"
      ],
      "text/plain": [
       "   user_id                                             actual  \\\n",
       "0        1  [853529, 865456, 867607, 872137, 874905, 87524...   \n",
       "1        2  [15830248, 838136, 839656, 861272, 866211, 870...   \n",
       "\n",
       "                                          candidates  \\\n",
       "0  [940947, 9527290, 986947, 995242, 861272, 1006...   \n",
       "1  [1075368, 8090521, 1040807, 940947, 5569230, 1...   \n",
       "\n",
       "                                         model1  \\\n",
       "0     [940947, 9527290, 986947, 995242, 861272]   \n",
       "1  [1075368, 8090521, 1040807, 940947, 5569230]   \n",
       "\n",
       "                                       model2  \n",
       "0                            [940947, 995242]  \n",
       "1  [1133018, 901062, 861272, 1106523, 916122]  "
      ]
     },
     "execution_count": 871,
     "metadata": {},
     "output_type": "execute_result"
    }
   ],
   "source": [
    "result_lvl_2 = result_lvl_2.merge(model1, on='user_id', how='left')\n",
    "result_lvl_2 = result_lvl_2.merge(model2, on='user_id', how='left')\n",
    "result_lvl_2.head(2)"
   ]
  },
  {
   "cell_type": "markdown",
   "metadata": {},
   "source": [
    "#### Вычисляем метрики на data_train_lvl_2"
   ]
  },
  {
   "cell_type": "code",
   "execution_count": 872,
   "metadata": {},
   "outputs": [],
   "source": [
    "def get_precision_at_k(data, field, k):\n",
    "    # Вычисление усреднённого значения precision@k\n",
    "    return data.apply(lambda x: precision_at_k(x[field], x['actual'], k), axis=1).mean()"
   ]
  },
  {
   "cell_type": "code",
   "execution_count": 873,
   "metadata": {},
   "outputs": [
    {
     "name": "stdout",
     "output_type": "stream",
     "text": [
      "precision@k для модели первого уровня (data_train_lvl_2): 0.3424326833797586 \n",
      "precision@k для модели второго уровня (data_train_lvl_2): 0.8139430516867843\n"
     ]
    }
   ],
   "source": [
    "print('precision@k для модели первого уровня (data_train_lvl_2):', get_precision_at_k(result_lvl_2, 'model1', K),\n",
    "      '\\nprecision@k для модели второго уровня (data_train_lvl_2):', get_precision_at_k(result_lvl_2, 'model2', K))"
   ]
  },
  {
   "cell_type": "markdown",
   "metadata": {},
   "source": [
    "### Получим расчет для data_val_lvl_2"
   ]
  },
  {
   "cell_type": "code",
   "execution_count": 874,
   "metadata": {},
   "outputs": [
    {
     "data": {
      "application/vnd.jupyter.widget-view+json": {
       "model_id": "c99bf2b67b9e4521b1c94b442fc79498",
       "version_major": 2,
       "version_minor": 0
      },
      "text/plain": [
       "HBox(children=(FloatProgress(value=0.0, max=501.0), HTML(value='')))"
      ]
     },
     "metadata": {},
     "output_type": "display_data"
    },
    {
     "name": "stdout",
     "output_type": "stream",
     "text": [
      "\n"
     ]
    },
    {
     "data": {
      "text/html": [
       "<div>\n",
       "<style scoped>\n",
       "    .dataframe tbody tr th:only-of-type {\n",
       "        vertical-align: middle;\n",
       "    }\n",
       "\n",
       "    .dataframe tbody tr th {\n",
       "        vertical-align: top;\n",
       "    }\n",
       "\n",
       "    .dataframe thead th {\n",
       "        text-align: right;\n",
       "    }\n",
       "</style>\n",
       "<table border=\"1\" class=\"dataframe\">\n",
       "  <thead>\n",
       "    <tr style=\"text-align: right;\">\n",
       "      <th></th>\n",
       "      <th>user_id</th>\n",
       "      <th>actual</th>\n",
       "      <th>candidates</th>\n",
       "      <th>model1</th>\n",
       "      <th>model2</th>\n",
       "    </tr>\n",
       "  </thead>\n",
       "  <tbody>\n",
       "    <tr>\n",
       "      <th>0</th>\n",
       "      <td>1</td>\n",
       "      <td>[821867, 834484, 856942, 865456, 889248, 90795...</td>\n",
       "      <td>[940947, 9527290, 986947, 995242, 861272, 1006...</td>\n",
       "      <td>[940947, 9527290, 986947, 995242, 861272]</td>\n",
       "      <td>[940947, 995242, 840361, 1082212, 865456]</td>\n",
       "    </tr>\n",
       "    <tr>\n",
       "      <th>1</th>\n",
       "      <td>3</td>\n",
       "      <td>[835476, 851057, 872021, 878302, 879948, 90963...</td>\n",
       "      <td>[1053690, 1092026, 951590, 9527494, 910032, 11...</td>\n",
       "      <td>[1053690, 1092026, 951590, 9527494, 910032]</td>\n",
       "      <td>[1053690, 1092026, 951590, 9527494, 910032]</td>\n",
       "    </tr>\n",
       "  </tbody>\n",
       "</table>\n",
       "</div>"
      ],
      "text/plain": [
       "   user_id                                             actual  \\\n",
       "0        1  [821867, 834484, 856942, 865456, 889248, 90795...   \n",
       "1        3  [835476, 851057, 872021, 878302, 879948, 90963...   \n",
       "\n",
       "                                          candidates  \\\n",
       "0  [940947, 9527290, 986947, 995242, 861272, 1006...   \n",
       "1  [1053690, 1092026, 951590, 9527494, 910032, 11...   \n",
       "\n",
       "                                        model1  \\\n",
       "0    [940947, 9527290, 986947, 995242, 861272]   \n",
       "1  [1053690, 1092026, 951590, 9527494, 910032]   \n",
       "\n",
       "                                        model2  \n",
       "0    [940947, 995242, 840361, 1082212, 865456]  \n",
       "1  [1053690, 1092026, 951590, 9527494, 910032]  "
      ]
     },
     "execution_count": 874,
     "metadata": {},
     "output_type": "execute_result"
    }
   ],
   "source": [
    "# Валидация\n",
    "data_train_1_2 = data_train[data_train['week_no'] < data_train['week_no'].max() - val_lvl_2_size_weeks]\n",
    "data_val_lvl_2 = data_train[data_train['week_no'] >= data_train['week_no'].max() - val_lvl_2_size_weeks]\n",
    "# Первичная фильтрация данных\n",
    "data_train_1_2 = prefilter_items(data_train_1_2, take_n_popular=N_POPULAR)\n",
    "# Обучение модели первого уровня\n",
    "recommender = MainRecommender(data_train_1_2, als=False, own=True)\n",
    "# Получаем список актуальных покупок и кандидатов для data_val_lvl_2\n",
    "result_lvl_2 = get_actual(data_val_lvl_2)\n",
    "result_lvl_2 = get_candidates(recommender, result_lvl_2)\n",
    "# Формируем данные для второй модели\n",
    "X = get_X_data(result_lvl_2)\n",
    "# Фичи\n",
    "X = featuring(X)\n",
    "# Предобработка данных перед предсказанием модели 2\n",
    "X = prepare_X(X)\n",
    "# Находим рекомендации по второй модели\n",
    "model2 = get_model2(lgb, X, K)\n",
    "# Находим рекомендации по первой модели\n",
    "model1 = get_model1(recommender, result_lvl_2, K)\n",
    "# Сливаем всё в одну таблицу\n",
    "result_lvl_2 = result_lvl_2.merge(model1, on='user_id', how='left')\n",
    "result_lvl_2 = result_lvl_2.merge(model2, on='user_id', how='left')\n",
    "result_lvl_2.head(2)"
   ]
  },
  {
   "cell_type": "markdown",
   "metadata": {},
   "source": [
    "#### Вычисляем метрики на data_val_lvl_2"
   ]
  },
  {
   "cell_type": "code",
   "execution_count": 875,
   "metadata": {},
   "outputs": [
    {
     "name": "stdout",
     "output_type": "stream",
     "text": [
      "precision@k для модели первого уровня (data_val_lvl_2): 0.30852105778648387 \n",
      "precision@k для модели второго уровня (data_val_lvl_2): 0.35406464250734576\n"
     ]
    }
   ],
   "source": [
    "print('precision@k для модели первого уровня (data_val_lvl_2):', get_precision_at_k(result_lvl_2, 'model1', K),\n",
    "      '\\nprecision@k для модели второго уровня (data_val_lvl_2):', get_precision_at_k(result_lvl_2, 'model2', K))"
   ]
  },
  {
   "cell_type": "markdown",
   "metadata": {},
   "source": [
    "### Получим расчет для data_test"
   ]
  },
  {
   "cell_type": "markdown",
   "metadata": {},
   "source": [
    "А теперь делаем почти то же самое, только обучим первую модель на полном датасете data_train и cделаем предсказание кандидатов для data_test. Затем полученных кандидатов ранжируем второй моделью и получим предсказания для data_test."
   ]
  },
  {
   "cell_type": "code",
   "execution_count": 877,
   "metadata": {},
   "outputs": [],
   "source": [
    "data_test = pd.read_csv('../raw_data/retail_test.csv')"
   ]
  },
  {
   "cell_type": "code",
   "execution_count": 878,
   "metadata": {},
   "outputs": [
    {
     "data": {
      "application/vnd.jupyter.widget-view+json": {
       "model_id": "562fdc815b414890ac3bd95759cec21b",
       "version_major": 2,
       "version_minor": 0
      },
      "text/plain": [
       "HBox(children=(FloatProgress(value=0.0, max=501.0), HTML(value='')))"
      ]
     },
     "metadata": {},
     "output_type": "display_data"
    },
    {
     "name": "stdout",
     "output_type": "stream",
     "text": [
      "\n"
     ]
    },
    {
     "data": {
      "text/html": [
       "<div>\n",
       "<style scoped>\n",
       "    .dataframe tbody tr th:only-of-type {\n",
       "        vertical-align: middle;\n",
       "    }\n",
       "\n",
       "    .dataframe tbody tr th {\n",
       "        vertical-align: top;\n",
       "    }\n",
       "\n",
       "    .dataframe thead th {\n",
       "        text-align: right;\n",
       "    }\n",
       "</style>\n",
       "<table border=\"1\" class=\"dataframe\">\n",
       "  <thead>\n",
       "    <tr style=\"text-align: right;\">\n",
       "      <th></th>\n",
       "      <th>user_id</th>\n",
       "      <th>actual</th>\n",
       "      <th>candidates</th>\n",
       "      <th>model1</th>\n",
       "      <th>model2</th>\n",
       "    </tr>\n",
       "  </thead>\n",
       "  <tbody>\n",
       "    <tr>\n",
       "      <th>0</th>\n",
       "      <td>1</td>\n",
       "      <td>[880007, 883616, 931136, 938004, 940947, 94726...</td>\n",
       "      <td>[940947, 9527290, 986947, 995242, 861272, 1062...</td>\n",
       "      <td>[940947, 9527290, 986947, 995242, 861272]</td>\n",
       "      <td>[940947, 995242, 1005186, 840361, 1082212]</td>\n",
       "    </tr>\n",
       "    <tr>\n",
       "      <th>1</th>\n",
       "      <td>2</td>\n",
       "      <td>[820165, 820291, 826784, 826835, 829009, 85784...</td>\n",
       "      <td>[1075368, 8090521, 1040807, 940947, 861272, 55...</td>\n",
       "      <td>[1075368, 8090521, 1040807, 940947, 861272]</td>\n",
       "      <td>[861272, 901062, 1133018, 1106523, 916122]</td>\n",
       "    </tr>\n",
       "  </tbody>\n",
       "</table>\n",
       "</div>"
      ],
      "text/plain": [
       "   user_id                                             actual  \\\n",
       "0        1  [880007, 883616, 931136, 938004, 940947, 94726...   \n",
       "1        2  [820165, 820291, 826784, 826835, 829009, 85784...   \n",
       "\n",
       "                                          candidates  \\\n",
       "0  [940947, 9527290, 986947, 995242, 861272, 1062...   \n",
       "1  [1075368, 8090521, 1040807, 940947, 861272, 55...   \n",
       "\n",
       "                                        model1  \\\n",
       "0    [940947, 9527290, 986947, 995242, 861272]   \n",
       "1  [1075368, 8090521, 1040807, 940947, 861272]   \n",
       "\n",
       "                                       model2  \n",
       "0  [940947, 995242, 1005186, 840361, 1082212]  \n",
       "1  [861272, 901062, 1133018, 1106523, 916122]  "
      ]
     },
     "execution_count": 878,
     "metadata": {},
     "output_type": "execute_result"
    }
   ],
   "source": [
    "# Первичная фильтрация данных\n",
    "data_train = prefilter_items(data_train, take_n_popular=N_POPULAR)\n",
    "# Обучение модели первого уровня\n",
    "recommender = MainRecommender(data_train, als=False, own=True)\n",
    "# Получаем список актуальных покупок и кандидатов для data_test\n",
    "result_lvl = get_actual(data_test)\n",
    "result_lvl = get_candidates(recommender, result_lvl)\n",
    "# Формируем данные для второй модели\n",
    "X = get_X_data(result_lvl)\n",
    "# Фичи\n",
    "X = featuring(X)\n",
    "# Предобработка данных перед предсказанием модели 2\n",
    "X = prepare_X(X)\n",
    "# Находим рекомендации по второй модели\n",
    "model2 = get_model2(lgb, X, K)\n",
    "# Находим рекомендации по первой модели\n",
    "model1 = get_model1(recommender, result_lvl, K)\n",
    "# Сливаем всё в одну таблицу\n",
    "result_lvl = result_lvl.merge(model1, on='user_id', how='left')\n",
    "result_lvl = result_lvl.merge(model2, on='user_id', how='left')\n",
    "result_lvl.head(2)"
   ]
  },
  {
   "cell_type": "markdown",
   "metadata": {},
   "source": [
    "#### Вычисляем метрики на data_test"
   ]
  },
  {
   "cell_type": "code",
   "execution_count": 879,
   "metadata": {},
   "outputs": [
    {
     "name": "stdout",
     "output_type": "stream",
     "text": [
      "precision@k для модели первого уровня (data_test): 0.2884880636604774 \n",
      "precision@k для модели второго уровня (data_test): 0.3190185676392573\n"
     ]
    }
   ],
   "source": [
    "print('precision@k для модели первого уровня (data_test):', get_precision_at_k(result_lvl, 'model1', K),\n",
    "      '\\nprecision@k для модели второго уровня (data_test):', get_precision_at_k(result_lvl, 'model2', K))"
   ]
  },
  {
   "cell_type": "markdown",
   "metadata": {},
   "source": [
    "### Результирующая метрика precision@5 с использованием 2-х моделей для тестовых данных равна 0.3190185676392573"
   ]
  },
  {
   "cell_type": "markdown",
   "metadata": {},
   "source": [
    "#### Сохранение результатов"
   ]
  },
  {
   "cell_type": "code",
   "execution_count": 881,
   "metadata": {},
   "outputs": [],
   "source": [
    "result_lvl[['user_id', 'model2']].to_csv('recommendations.csv', index=False)"
   ]
  }
 ],
 "metadata": {
  "kernelspec": {
   "display_name": "Python 3",
   "language": "python",
   "name": "python3"
  },
  "language_info": {
   "codemirror_mode": {
    "name": "ipython",
    "version": 3
   },
   "file_extension": ".py",
   "mimetype": "text/x-python",
   "name": "python",
   "nbconvert_exporter": "python",
   "pygments_lexer": "ipython3",
   "version": "3.7.7"
  }
 },
 "nbformat": 4,
 "nbformat_minor": 2
}
