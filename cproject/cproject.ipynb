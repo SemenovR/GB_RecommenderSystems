{
 "cells": [
  {
   "cell_type": "markdown",
   "metadata": {},
   "source": [
    "# Финальный проект"
   ]
  },
  {
   "cell_type": "markdown",
   "metadata": {},
   "source": [
    "Мы уже прошли всю необходимую теорию для финального проекта. Проект осуществляется на данных из вебинара (данные считаны в начале ДЗ).\n",
    "Рекомендуем вам **начать делать проект сразу после этого домашнего задания**\n",
    "- Целевая метрика - precision@5. Порог для уcпешной сдачи проекта precision@5 > 25%\n",
    "- Будет public тестовый датасет, на котором вы сможете измерять метрику\n",
    "- Также будет private тестовый датасет для измерения финального качества\n",
    "- НЕ обязательно, но крайне желательно использовать 2-ух уровневые рекоммендательные системы в проекте\n",
    "- Вы сдаете код проекта в виде github репозитория и csv файл с рекомендациями \n",
    "\n",
    "**Основное**\n",
    "- Целевая метрика precision@5\n",
    "- Бейзлайн решения - [MainRecommender](https://github.com/geangohn/recsys-tutorial/blob/master/src/recommenders.py)\n",
    "- Сдаем ссылку на github с решением. На github должен быть файл recommendations.csv (user_id | [rec_1, rec_2, ...] с рекомендациями. rec_i - реальные id item-ов (из retail_train.csv)\n",
    "\n",
    "**Hints:** \n",
    "\n",
    "Сначала просто попробуйте разные параметры MainRecommender:  \n",
    "- N в топ-N товарах при формировании user-item матирцы (сейчас топ-5000)  \n",
    "- Различные веса в user-item матрице (0/1, кол-во покупок, log(кол-во покупок + 1), сумма покупки, ...)  \n",
    "- Разные взвешивания матрицы (TF-IDF, BM25 - у него есть параметры)  \n",
    "- Разные смешивания рекомендаций (обратите внимание на бейзлайн - прошлые покупки юзера)  \n",
    "\n",
    "Сделайте MVP - минимально рабочий продукт - (пусть даже top-popular), а потом его улучшайте\n",
    "\n",
    "Если вы делаете двухуровневую модель - следите за валидацией "
   ]
  },
  {
   "cell_type": "markdown",
   "metadata": {},
   "source": [
    "### Решение"
   ]
  },
  {
   "cell_type": "code",
   "execution_count": 498,
   "metadata": {},
   "outputs": [],
   "source": [
    "import pandas as pd\n",
    "from lightgbm import LGBMClassifier\n",
    "\n",
    "import os, sys\n",
    "module_path = os.path.abspath(os.path.join(os.pardir))\n",
    "if module_path not in sys.path:\n",
    "    sys.path.append(module_path)\n",
    "\n",
    "# Написанные нами функции\n",
    "from src.metrics import precision_at_k, recall_at_k\n",
    "from src.utils import prefilter_items\n",
    "from src.recommenders import MainRecommender"
   ]
  },
  {
   "cell_type": "markdown",
   "metadata": {},
   "source": [
    "#### Загрузка данных и схема валидации"
   ]
  },
  {
   "cell_type": "code",
   "execution_count": 499,
   "metadata": {},
   "outputs": [
    {
     "data": {
      "text/html": [
       "<div>\n",
       "<style scoped>\n",
       "    .dataframe tbody tr th:only-of-type {\n",
       "        vertical-align: middle;\n",
       "    }\n",
       "\n",
       "    .dataframe tbody tr th {\n",
       "        vertical-align: top;\n",
       "    }\n",
       "\n",
       "    .dataframe thead th {\n",
       "        text-align: right;\n",
       "    }\n",
       "</style>\n",
       "<table border=\"1\" class=\"dataframe\">\n",
       "  <thead>\n",
       "    <tr style=\"text-align: right;\">\n",
       "      <th></th>\n",
       "      <th>user_id</th>\n",
       "      <th>basket_id</th>\n",
       "      <th>day</th>\n",
       "      <th>item_id</th>\n",
       "      <th>quantity</th>\n",
       "      <th>sales_value</th>\n",
       "      <th>store_id</th>\n",
       "      <th>retail_disc</th>\n",
       "      <th>trans_time</th>\n",
       "      <th>week_no</th>\n",
       "      <th>coupon_disc</th>\n",
       "      <th>coupon_match_disc</th>\n",
       "    </tr>\n",
       "  </thead>\n",
       "  <tbody>\n",
       "    <tr>\n",
       "      <th>0</th>\n",
       "      <td>2375</td>\n",
       "      <td>26984851472</td>\n",
       "      <td>1</td>\n",
       "      <td>1004906</td>\n",
       "      <td>1</td>\n",
       "      <td>1.39</td>\n",
       "      <td>364</td>\n",
       "      <td>-0.6</td>\n",
       "      <td>1631</td>\n",
       "      <td>1</td>\n",
       "      <td>0.0</td>\n",
       "      <td>0.0</td>\n",
       "    </tr>\n",
       "    <tr>\n",
       "      <th>1</th>\n",
       "      <td>2375</td>\n",
       "      <td>26984851472</td>\n",
       "      <td>1</td>\n",
       "      <td>1033142</td>\n",
       "      <td>1</td>\n",
       "      <td>0.82</td>\n",
       "      <td>364</td>\n",
       "      <td>0.0</td>\n",
       "      <td>1631</td>\n",
       "      <td>1</td>\n",
       "      <td>0.0</td>\n",
       "      <td>0.0</td>\n",
       "    </tr>\n",
       "  </tbody>\n",
       "</table>\n",
       "</div>"
      ],
      "text/plain": [
       "   user_id    basket_id  day  item_id  quantity  sales_value  store_id  \\\n",
       "0     2375  26984851472    1  1004906         1         1.39       364   \n",
       "1     2375  26984851472    1  1033142         1         0.82       364   \n",
       "\n",
       "   retail_disc  trans_time  week_no  coupon_disc  coupon_match_disc  \n",
       "0         -0.6        1631        1          0.0                0.0  \n",
       "1          0.0        1631        1          0.0                0.0  "
      ]
     },
     "execution_count": 499,
     "metadata": {},
     "output_type": "execute_result"
    }
   ],
   "source": [
    "data_train = pd.read_csv('../raw_data/retail_train.csv')\n",
    "item_features = pd.read_csv('../raw_data/product.csv')\n",
    "user_features = pd.read_csv('../raw_data/hh_demographic.csv')\n",
    "\n",
    "item_features.columns = [col.lower() for col in item_features.columns]\n",
    "user_features.columns = [col.lower() for col in user_features.columns]\n",
    "item_features.rename(columns={'product_id': 'item_id'}, inplace=True)\n",
    "user_features.rename(columns={'household_key': 'user_id'}, inplace=True)\n",
    "\n",
    "# -- давние покупки -- | -- 6 недель -- | -- 3 недель -- \n",
    "val_lvl_1_size_weeks = 6\n",
    "val_lvl_2_size_weeks = 3\n",
    "\n",
    "data_train_lvl_1 = data_train[data_train['week_no'] < data_train['week_no'].max() - \n",
    "                              (val_lvl_1_size_weeks + val_lvl_2_size_weeks)]\n",
    "data_train_lvl_2 = data_train[(data_train['week_no'] >= data_train['week_no'].max() - \n",
    "                               (val_lvl_1_size_weeks + val_lvl_2_size_weeks)) &\n",
    "                      (data_train['week_no'] < data_train['week_no'].max() - (val_lvl_2_size_weeks))]\n",
    "data_val_lvl_2 = data_train[data_train['week_no'] >= data_train['week_no'].max() - val_lvl_2_size_weeks]\n",
    "\n",
    "data_train_lvl_1.head(2)"
   ]
  },
  {
   "cell_type": "markdown",
   "metadata": {},
   "source": [
    "#### Первичная фильтрация данных"
   ]
  },
  {
   "cell_type": "code",
   "execution_count": 500,
   "metadata": {},
   "outputs": [
    {
     "name": "stdout",
     "output_type": "stream",
     "text": [
      "Decreased # items from 83685 to 5001\n"
     ]
    }
   ],
   "source": [
    "n_items_before = data_train_lvl_1['item_id'].nunique()\n",
    "\n",
    "data_train_lvl_1 = prefilter_items(data_train_lvl_1, item_features=item_features, take_n_popular=5000)\n",
    "\n",
    "n_items_after = data_train_lvl_1['item_id'].nunique()\n",
    "print('Decreased # items from {} to {}'.format(n_items_before, n_items_after))"
   ]
  },
  {
   "cell_type": "markdown",
   "metadata": {},
   "source": [
    "#### Обучение модели первого уровня"
   ]
  },
  {
   "cell_type": "code",
   "execution_count": 501,
   "metadata": {},
   "outputs": [],
   "source": [
    "K = 5 # Число рекомендаций"
   ]
  },
  {
   "cell_type": "code",
   "execution_count": 502,
   "metadata": {},
   "outputs": [
    {
     "data": {
      "application/vnd.jupyter.widget-view+json": {
       "model_id": "0e452c7a68be4688afe7845551e0b5ae",
       "version_major": 2,
       "version_minor": 0
      },
      "text/plain": [
       "HBox(children=(FloatProgress(value=0.0, max=15.0), HTML(value='')))"
      ]
     },
     "metadata": {},
     "output_type": "display_data"
    },
    {
     "name": "stdout",
     "output_type": "stream",
     "text": [
      "\n"
     ]
    },
    {
     "data": {
      "application/vnd.jupyter.widget-view+json": {
       "model_id": "8ca7c9fa6d4c4816b3b2cb05a8a81d4c",
       "version_major": 2,
       "version_minor": 0
      },
      "text/plain": [
       "HBox(children=(FloatProgress(value=0.0, max=5001.0), HTML(value='')))"
      ]
     },
     "metadata": {},
     "output_type": "display_data"
    },
    {
     "name": "stdout",
     "output_type": "stream",
     "text": [
      "\n"
     ]
    }
   ],
   "source": [
    "recommender = MainRecommender(data_train_lvl_1)"
   ]
  },
  {
   "cell_type": "markdown",
   "metadata": {},
   "source": [
    "#### Получаем список актуальных покупок и кандидатов для data_train_lvl_2"
   ]
  },
  {
   "cell_type": "code",
   "execution_count": 503,
   "metadata": {},
   "outputs": [],
   "source": [
    "def get_actual(data):\n",
    "    # Получение актуальных покупок\n",
    "    result = data.groupby('user_id')['item_id'].unique().reset_index()\n",
    "    result.columns=['user_id', 'actual']\n",
    "    return result"
   ]
  },
  {
   "cell_type": "code",
   "execution_count": 504,
   "metadata": {},
   "outputs": [],
   "source": [
    "def get_candidates(model, data):\n",
    "    # Получение кандидатов на покупку\n",
    "    data['candidates'] = data['user_id'].apply(lambda x: model.get_own_recommendations(x, N=50))\n",
    "    return data"
   ]
  },
  {
   "cell_type": "code",
   "execution_count": 505,
   "metadata": {},
   "outputs": [
    {
     "data": {
      "text/html": [
       "<div>\n",
       "<style scoped>\n",
       "    .dataframe tbody tr th:only-of-type {\n",
       "        vertical-align: middle;\n",
       "    }\n",
       "\n",
       "    .dataframe tbody tr th {\n",
       "        vertical-align: top;\n",
       "    }\n",
       "\n",
       "    .dataframe thead th {\n",
       "        text-align: right;\n",
       "    }\n",
       "</style>\n",
       "<table border=\"1\" class=\"dataframe\">\n",
       "  <thead>\n",
       "    <tr style=\"text-align: right;\">\n",
       "      <th></th>\n",
       "      <th>user_id</th>\n",
       "      <th>actual</th>\n",
       "      <th>candidates</th>\n",
       "    </tr>\n",
       "  </thead>\n",
       "  <tbody>\n",
       "    <tr>\n",
       "      <th>0</th>\n",
       "      <td>1</td>\n",
       "      <td>[853529, 865456, 867607, 872137, 874905, 87524...</td>\n",
       "      <td>[856942, 9297615, 5577022, 877391, 9655212, 88...</td>\n",
       "    </tr>\n",
       "    <tr>\n",
       "      <th>1</th>\n",
       "      <td>2</td>\n",
       "      <td>[15830248, 838136, 839656, 861272, 866211, 870...</td>\n",
       "      <td>[911974, 1076580, 1103898, 5567582, 1056620, 9...</td>\n",
       "    </tr>\n",
       "  </tbody>\n",
       "</table>\n",
       "</div>"
      ],
      "text/plain": [
       "   user_id                                             actual  \\\n",
       "0        1  [853529, 865456, 867607, 872137, 874905, 87524...   \n",
       "1        2  [15830248, 838136, 839656, 861272, 866211, 870...   \n",
       "\n",
       "                                          candidates  \n",
       "0  [856942, 9297615, 5577022, 877391, 9655212, 88...  \n",
       "1  [911974, 1076580, 1103898, 5567582, 1056620, 9...  "
      ]
     },
     "execution_count": 505,
     "metadata": {},
     "output_type": "execute_result"
    }
   ],
   "source": [
    "result_lvl_2 = get_actual(data_train_lvl_2)\n",
    "result_lvl_2 = get_candidates(recommender, result_lvl_2)\n",
    "result_lvl_2.head(2)"
   ]
  },
  {
   "cell_type": "markdown",
   "metadata": {},
   "source": [
    "#### Размечаем данные для второй модели"
   ]
  },
  {
   "cell_type": "code",
   "execution_count": 506,
   "metadata": {},
   "outputs": [],
   "source": [
    "def get_X_data(data):\n",
    "    # Формирование X данных\n",
    "    s = data.apply(lambda x: pd.Series(x['candidates']), axis=1).stack().reset_index(level=1, drop=True)\n",
    "    s.name = 'item_id'\n",
    "    return data.drop(['actual', 'candidates'], axis=1).join(s)"
   ]
  },
  {
   "cell_type": "code",
   "execution_count": 507,
   "metadata": {},
   "outputs": [],
   "source": [
    "def mark_target(data, result):\n",
    "    # Разметка данных\n",
    "    users_lvl_2 = get_X_data(result)\n",
    "    targets_lvl_2 = data[['user_id', 'item_id']].copy()\n",
    "    targets_lvl_2['target'] = 1  # тут только покупки \n",
    "    targets_lvl_2 = users_lvl_2.merge(targets_lvl_2, on=['user_id', 'item_id'], how='left')\n",
    "    targets_lvl_2['target'].fillna(0, inplace= True)\n",
    "    \n",
    "    return targets_lvl_2"
   ]
  },
  {
   "cell_type": "code",
   "execution_count": 508,
   "metadata": {},
   "outputs": [
    {
     "data": {
      "text/html": [
       "<div>\n",
       "<style scoped>\n",
       "    .dataframe tbody tr th:only-of-type {\n",
       "        vertical-align: middle;\n",
       "    }\n",
       "\n",
       "    .dataframe tbody tr th {\n",
       "        vertical-align: top;\n",
       "    }\n",
       "\n",
       "    .dataframe thead th {\n",
       "        text-align: right;\n",
       "    }\n",
       "</style>\n",
       "<table border=\"1\" class=\"dataframe\">\n",
       "  <thead>\n",
       "    <tr style=\"text-align: right;\">\n",
       "      <th></th>\n",
       "      <th>user_id</th>\n",
       "      <th>item_id</th>\n",
       "      <th>target</th>\n",
       "    </tr>\n",
       "  </thead>\n",
       "  <tbody>\n",
       "    <tr>\n",
       "      <th>0</th>\n",
       "      <td>1</td>\n",
       "      <td>856942</td>\n",
       "      <td>1.0</td>\n",
       "    </tr>\n",
       "    <tr>\n",
       "      <th>1</th>\n",
       "      <td>1</td>\n",
       "      <td>856942</td>\n",
       "      <td>1.0</td>\n",
       "    </tr>\n",
       "  </tbody>\n",
       "</table>\n",
       "</div>"
      ],
      "text/plain": [
       "   user_id  item_id  target\n",
       "0        1   856942     1.0\n",
       "1        1   856942     1.0"
      ]
     },
     "execution_count": 508,
     "metadata": {},
     "output_type": "execute_result"
    }
   ],
   "source": [
    "X_y = mark_target(data_train_lvl_2, result_lvl_2)\n",
    "X_y.head(2)"
   ]
  },
  {
   "cell_type": "markdown",
   "metadata": {},
   "source": [
    "#### Новые фичи"
   ]
  },
  {
   "cell_type": "code",
   "execution_count": 509,
   "metadata": {},
   "outputs": [],
   "source": [
    "def featuring(data_train, data_target):\n",
    "    # Добавляем внешние данные\n",
    "    data_target = data_target.merge(item_features, on='item_id', how='left')\n",
    "    data_target = data_target.merge(user_features, on='user_id', how='left')\n",
    "\n",
    "    # Средний чек пользователя\n",
    "    user_mean_price = pd.DataFrame()\n",
    "    user_mean_price[['user_id', 'sum_sales']] = data_train.groupby(['user_id'])['sales_value'].sum().reset_index()\\\n",
    "    [['user_id', 'sales_value']]\n",
    "    user_mean_price['sum_quantity'] = data_train.groupby(['user_id'])['quantity'].sum().reset_index()['quantity']\n",
    "    user_mean_price['user_mean_price'] = user_mean_price['sum_sales'] / user_mean_price['sum_quantity']\n",
    "    user_mean_price = user_mean_price.drop(['sum_sales', 'sum_quantity'], axis=1)\n",
    "\n",
    "    # Средняя сумма покупок пользователей в разном возрасте\n",
    "    user_age_sum_sales = pd.DataFrame()\n",
    "    user_age_sum_sales[['age_desc', 'user_age_sum_sales']] = \\\n",
    "    data_train.merge(user_features, on='user_id', how='left').groupby(['age_desc'])\\\n",
    "    ['sales_value'].mean().reset_index()[['age_desc', 'sales_value']]\n",
    "    \n",
    "    # Средняя цена товара\n",
    "    item_mean_price = pd.DataFrame()\n",
    "    item_mean_price[['item_id', 'sum_sales']] = data_train.groupby(['item_id'])['sales_value'].sum().reset_index()\\\n",
    "    [['item_id', 'sales_value']]\n",
    "    item_mean_price['sum_quantity'] = data_train.groupby(['item_id'])['quantity'].sum().reset_index()['quantity']\n",
    "    item_mean_price['item_mean_price'] = item_mean_price['sum_sales'] / item_mean_price['sum_quantity']\n",
    "    item_mean_price = item_mean_price.drop(['sum_sales', 'sum_quantity'], axis=1)\n",
    "    \n",
    "    # Среднее число продаж товара\n",
    "    item_mean_quantity = pd.DataFrame()\n",
    "    item_mean_quantity[['item_id', 'item_mean_quantity']] = data_train.groupby(['item_id'])\\\n",
    "    ['quantity'].mean().reset_index()[['item_id', 'quantity']]\n",
    "\n",
    "    # Средняя сумма покупок пользователем в категории \n",
    "    user_department_mean_sales = pd.DataFrame()\n",
    "    user_department_mean_sales[['user_id', 'department', 'user_department_mean_sales']] = \\\n",
    "    data_train.merge(item_features, on='item_id', how='left').groupby(['user_id', 'department'])\\\n",
    "    ['sales_value'].mean().reset_index()\n",
    "\n",
    "    # Сумма покупок пользователем товара\n",
    "    user_item_sum_sales = pd.DataFrame()\n",
    "    user_item_sum_sales[['user_id', 'item_id', 'user_item_sum_sales']] = \\\n",
    "    data_train.groupby(['user_id', 'item_id'])['sales_value'].sum().reset_index()\n",
    "    \n",
    "    # Добавляем новые фичи в датасет\n",
    "    data_target = data_target.merge(user_mean_price, on='user_id', how='left')\n",
    "    data_target = data_target.merge(user_age_sum_sales, on='age_desc', how='left')\n",
    "    data_target = data_target.merge(item_mean_price, on='item_id', how='left')\n",
    "    data_target = data_target.merge(item_mean_quantity, on='item_id', how='left')\n",
    "    data_target = data_target.merge(user_department_mean_sales, on=['user_id', 'department'], how='left')\n",
    "    data_target = data_target.merge(user_item_sum_sales, on=['user_id', 'item_id'], how='left')\n",
    "    \n",
    "    return data_target"
   ]
  },
  {
   "cell_type": "code",
   "execution_count": 510,
   "metadata": {},
   "outputs": [],
   "source": [
    "X_y = featuring(data_train_lvl_2, X_y)"
   ]
  },
  {
   "cell_type": "markdown",
   "metadata": {},
   "source": [
    "#### Разбиваем на test и train и обучаем"
   ]
  },
  {
   "cell_type": "code",
   "execution_count": 511,
   "metadata": {},
   "outputs": [],
   "source": [
    "cat_feats = ['manufacturer', 'department', 'brand', 'commodity_desc', 'sub_commodity_desc', 'curr_size_of_product', \n",
    "             'age_desc', 'marital_status_code', 'income_desc', 'homeowner_desc', 'hh_comp_desc', \n",
    "             'household_size_desc', 'kid_category_desc']"
   ]
  },
  {
   "cell_type": "code",
   "execution_count": 512,
   "metadata": {},
   "outputs": [],
   "source": [
    "def prepare_X(X):\n",
    "    # Подготовка X данных перед обучением/предсказанием\n",
    "    X[cat_feats] = X[cat_feats].astype('category')\n",
    "    return X"
   ]
  },
  {
   "cell_type": "code",
   "execution_count": 513,
   "metadata": {},
   "outputs": [],
   "source": [
    "def split_train_test(data):\n",
    "    # Разделение на X и y\n",
    "    X_train = data.drop('target', axis=1)\n",
    "    X_train = prepare_X(X_train)\n",
    "    y_train = data['target']    \n",
    "    return X_train, y_train"
   ]
  },
  {
   "cell_type": "code",
   "execution_count": 514,
   "metadata": {},
   "outputs": [],
   "source": [
    "X_train, y_train = split_train_test(X_y)"
   ]
  },
  {
   "cell_type": "code",
   "execution_count": 515,
   "metadata": {},
   "outputs": [
    {
     "data": {
      "text/plain": [
       "LGBMClassifier(max_depth=7, num_leaves=128, objective='binary')"
      ]
     },
     "execution_count": 515,
     "metadata": {},
     "output_type": "execute_result"
    }
   ],
   "source": [
    "lgb = LGBMClassifier(objective='binary', max_depth=7, num_leaves=128)\n",
    "lgb.fit(X_train, y_train)"
   ]
  },
  {
   "cell_type": "markdown",
   "metadata": {},
   "source": [
    "#### Берем топ-k предсказаний для data_train_lvl_2, ранжированных по вероятности, для каждого юзера"
   ]
  },
  {
   "cell_type": "code",
   "execution_count": 516,
   "metadata": {},
   "outputs": [],
   "source": [
    "def get_model2(model, X, k):\n",
    "    # Получение данных модели второго уровня\n",
    "    X['preds'] = model.predict_proba(X)[:, 1]\n",
    "    result = X.sort_values(['user_id', 'preds'], ascending=False).groupby('user_id').head(k).\\\n",
    "        groupby('user_id')['item_id'].unique().reset_index()\n",
    "    result.rename(columns={'item_id': 'model2'}, inplace=True)\n",
    "    return result"
   ]
  },
  {
   "cell_type": "code",
   "execution_count": 517,
   "metadata": {},
   "outputs": [
    {
     "data": {
      "text/html": [
       "<div>\n",
       "<style scoped>\n",
       "    .dataframe tbody tr th:only-of-type {\n",
       "        vertical-align: middle;\n",
       "    }\n",
       "\n",
       "    .dataframe tbody tr th {\n",
       "        vertical-align: top;\n",
       "    }\n",
       "\n",
       "    .dataframe thead th {\n",
       "        text-align: right;\n",
       "    }\n",
       "</style>\n",
       "<table border=\"1\" class=\"dataframe\">\n",
       "  <thead>\n",
       "    <tr style=\"text-align: right;\">\n",
       "      <th></th>\n",
       "      <th>user_id</th>\n",
       "      <th>model2</th>\n",
       "    </tr>\n",
       "  </thead>\n",
       "  <tbody>\n",
       "    <tr>\n",
       "      <th>0</th>\n",
       "      <td>1</td>\n",
       "      <td>[856942, 9297615, 5577022]</td>\n",
       "    </tr>\n",
       "    <tr>\n",
       "      <th>1</th>\n",
       "      <td>2</td>\n",
       "      <td>[1103898, 911974, 1076580, 5567582, 1056620]</td>\n",
       "    </tr>\n",
       "  </tbody>\n",
       "</table>\n",
       "</div>"
      ],
      "text/plain": [
       "   user_id                                        model2\n",
       "0        1                    [856942, 9297615, 5577022]\n",
       "1        2  [1103898, 911974, 1076580, 5567582, 1056620]"
      ]
     },
     "execution_count": 517,
     "metadata": {},
     "output_type": "execute_result"
    }
   ],
   "source": [
    "model2 = get_model2(lgb, X_train, K)\n",
    "model2.head(2)"
   ]
  },
  {
   "cell_type": "markdown",
   "metadata": {},
   "source": [
    "#### Находим рекомендации по первой модели"
   ]
  },
  {
   "cell_type": "code",
   "execution_count": 518,
   "metadata": {},
   "outputs": [],
   "source": [
    "def get_model1(model, data, k):\n",
    "    # Получение данных модели первого уровня\n",
    "    model1 = data.copy()\n",
    "    model1['model1'] = model1['user_id'].apply(lambda x: model.get_own_recommendations(x, N=k))\n",
    "    return model1[['user_id', 'model1']]"
   ]
  },
  {
   "cell_type": "code",
   "execution_count": 519,
   "metadata": {},
   "outputs": [
    {
     "data": {
      "text/html": [
       "<div>\n",
       "<style scoped>\n",
       "    .dataframe tbody tr th:only-of-type {\n",
       "        vertical-align: middle;\n",
       "    }\n",
       "\n",
       "    .dataframe tbody tr th {\n",
       "        vertical-align: top;\n",
       "    }\n",
       "\n",
       "    .dataframe thead th {\n",
       "        text-align: right;\n",
       "    }\n",
       "</style>\n",
       "<table border=\"1\" class=\"dataframe\">\n",
       "  <thead>\n",
       "    <tr style=\"text-align: right;\">\n",
       "      <th></th>\n",
       "      <th>user_id</th>\n",
       "      <th>model1</th>\n",
       "    </tr>\n",
       "  </thead>\n",
       "  <tbody>\n",
       "    <tr>\n",
       "      <th>0</th>\n",
       "      <td>1</td>\n",
       "      <td>[856942, 9297615, 5577022, 877391, 9655212]</td>\n",
       "    </tr>\n",
       "    <tr>\n",
       "      <th>1</th>\n",
       "      <td>2</td>\n",
       "      <td>[911974, 1076580, 1103898, 5567582, 1056620]</td>\n",
       "    </tr>\n",
       "  </tbody>\n",
       "</table>\n",
       "</div>"
      ],
      "text/plain": [
       "   user_id                                        model1\n",
       "0        1   [856942, 9297615, 5577022, 877391, 9655212]\n",
       "1        2  [911974, 1076580, 1103898, 5567582, 1056620]"
      ]
     },
     "execution_count": 519,
     "metadata": {},
     "output_type": "execute_result"
    }
   ],
   "source": [
    "model1 = get_model1(recommender, result_lvl_2, K)\n",
    "model1.head(2)"
   ]
  },
  {
   "cell_type": "markdown",
   "metadata": {},
   "source": [
    "#### Сливаем всё в одну таблицу"
   ]
  },
  {
   "cell_type": "code",
   "execution_count": 520,
   "metadata": {},
   "outputs": [
    {
     "data": {
      "text/html": [
       "<div>\n",
       "<style scoped>\n",
       "    .dataframe tbody tr th:only-of-type {\n",
       "        vertical-align: middle;\n",
       "    }\n",
       "\n",
       "    .dataframe tbody tr th {\n",
       "        vertical-align: top;\n",
       "    }\n",
       "\n",
       "    .dataframe thead th {\n",
       "        text-align: right;\n",
       "    }\n",
       "</style>\n",
       "<table border=\"1\" class=\"dataframe\">\n",
       "  <thead>\n",
       "    <tr style=\"text-align: right;\">\n",
       "      <th></th>\n",
       "      <th>user_id</th>\n",
       "      <th>actual</th>\n",
       "      <th>candidates</th>\n",
       "      <th>model1</th>\n",
       "      <th>model2</th>\n",
       "    </tr>\n",
       "  </thead>\n",
       "  <tbody>\n",
       "    <tr>\n",
       "      <th>0</th>\n",
       "      <td>1</td>\n",
       "      <td>[853529, 865456, 867607, 872137, 874905, 87524...</td>\n",
       "      <td>[856942, 9297615, 5577022, 877391, 9655212, 88...</td>\n",
       "      <td>[856942, 9297615, 5577022, 877391, 9655212]</td>\n",
       "      <td>[856942, 9297615, 5577022]</td>\n",
       "    </tr>\n",
       "    <tr>\n",
       "      <th>1</th>\n",
       "      <td>2</td>\n",
       "      <td>[15830248, 838136, 839656, 861272, 866211, 870...</td>\n",
       "      <td>[911974, 1076580, 1103898, 5567582, 1056620, 9...</td>\n",
       "      <td>[911974, 1076580, 1103898, 5567582, 1056620]</td>\n",
       "      <td>[1103898, 911974, 1076580, 5567582, 1056620]</td>\n",
       "    </tr>\n",
       "  </tbody>\n",
       "</table>\n",
       "</div>"
      ],
      "text/plain": [
       "   user_id                                             actual  \\\n",
       "0        1  [853529, 865456, 867607, 872137, 874905, 87524...   \n",
       "1        2  [15830248, 838136, 839656, 861272, 866211, 870...   \n",
       "\n",
       "                                          candidates  \\\n",
       "0  [856942, 9297615, 5577022, 877391, 9655212, 88...   \n",
       "1  [911974, 1076580, 1103898, 5567582, 1056620, 9...   \n",
       "\n",
       "                                         model1  \\\n",
       "0   [856942, 9297615, 5577022, 877391, 9655212]   \n",
       "1  [911974, 1076580, 1103898, 5567582, 1056620]   \n",
       "\n",
       "                                         model2  \n",
       "0                    [856942, 9297615, 5577022]  \n",
       "1  [1103898, 911974, 1076580, 5567582, 1056620]  "
      ]
     },
     "execution_count": 520,
     "metadata": {},
     "output_type": "execute_result"
    }
   ],
   "source": [
    "result_lvl_2 = result_lvl_2.merge(model1, on='user_id', how='left')\n",
    "result_lvl_2 = result_lvl_2.merge(model2, on='user_id', how='left')\n",
    "result_lvl_2.head(2)"
   ]
  },
  {
   "cell_type": "markdown",
   "metadata": {},
   "source": [
    "#### Вычисляем метрики на data_train_lvl_2"
   ]
  },
  {
   "cell_type": "code",
   "execution_count": 521,
   "metadata": {},
   "outputs": [],
   "source": [
    "def get_precision_at_k(data, field, k):\n",
    "    # Вычисление усреднённого значения precision@k\n",
    "    return data.apply(lambda x: precision_at_k(x[field], x['actual'], k), axis=1).mean()"
   ]
  },
  {
   "cell_type": "code",
   "execution_count": 522,
   "metadata": {},
   "outputs": [
    {
     "name": "stdout",
     "output_type": "stream",
     "text": [
      " precision@k для модели первого уровня (data_train_lvl_2): 0.17697307335190343 \n",
      " precision@k для модели второго уровня (data_train_lvl_2): 0.5507737542556483\n"
     ]
    }
   ],
   "source": [
    "print(' precision@k для модели первого уровня (data_train_lvl_2):', get_precision_at_k(result_lvl_2, 'model1', K), '\\n',\n",
    "      'precision@k для модели второго уровня (data_train_lvl_2):', get_precision_at_k(result_lvl_2, 'model2', K))"
   ]
  },
  {
   "cell_type": "markdown",
   "metadata": {},
   "source": [
    "### Получим расчет для data_val_lvl_2"
   ]
  },
  {
   "cell_type": "code",
   "execution_count": 523,
   "metadata": {},
   "outputs": [
    {
     "data": {
      "application/vnd.jupyter.widget-view+json": {
       "model_id": "39e8592fbb5442fcb3353543fd1bc969",
       "version_major": 2,
       "version_minor": 0
      },
      "text/plain": [
       "HBox(children=(FloatProgress(value=0.0, max=15.0), HTML(value='')))"
      ]
     },
     "metadata": {},
     "output_type": "display_data"
    },
    {
     "name": "stdout",
     "output_type": "stream",
     "text": [
      "\n"
     ]
    },
    {
     "data": {
      "application/vnd.jupyter.widget-view+json": {
       "model_id": "91faaae23f39474b9288193eff16d699",
       "version_major": 2,
       "version_minor": 0
      },
      "text/plain": [
       "HBox(children=(FloatProgress(value=0.0, max=5000.0), HTML(value='')))"
      ]
     },
     "metadata": {},
     "output_type": "display_data"
    },
    {
     "name": "stdout",
     "output_type": "stream",
     "text": [
      "\n"
     ]
    },
    {
     "data": {
      "text/html": [
       "<div>\n",
       "<style scoped>\n",
       "    .dataframe tbody tr th:only-of-type {\n",
       "        vertical-align: middle;\n",
       "    }\n",
       "\n",
       "    .dataframe tbody tr th {\n",
       "        vertical-align: top;\n",
       "    }\n",
       "\n",
       "    .dataframe thead th {\n",
       "        text-align: right;\n",
       "    }\n",
       "</style>\n",
       "<table border=\"1\" class=\"dataframe\">\n",
       "  <thead>\n",
       "    <tr style=\"text-align: right;\">\n",
       "      <th></th>\n",
       "      <th>user_id</th>\n",
       "      <th>actual</th>\n",
       "      <th>candidates</th>\n",
       "      <th>model1</th>\n",
       "      <th>model2</th>\n",
       "    </tr>\n",
       "  </thead>\n",
       "  <tbody>\n",
       "    <tr>\n",
       "      <th>0</th>\n",
       "      <td>1</td>\n",
       "      <td>[821867, 834484, 856942, 865456, 889248, 90795...</td>\n",
       "      <td>[856942, 9297615, 5577022, 877391, 8293439, 96...</td>\n",
       "      <td>[856942, 9297615, 5577022, 877391, 8293439]</td>\n",
       "      <td>[856942, 9297615, 5577022, 8293439, 9677939]</td>\n",
       "    </tr>\n",
       "    <tr>\n",
       "      <th>1</th>\n",
       "      <td>3</td>\n",
       "      <td>[835476, 851057, 872021, 878302, 879948, 90963...</td>\n",
       "      <td>[1092937, 1008714, 12132312, 1075979, 998206, ...</td>\n",
       "      <td>[1092937, 1008714, 12132312, 1075979, 998206]</td>\n",
       "      <td>[12524016, 10456568, 1092502, 1092937, 1008714]</td>\n",
       "    </tr>\n",
       "  </tbody>\n",
       "</table>\n",
       "</div>"
      ],
      "text/plain": [
       "   user_id                                             actual  \\\n",
       "0        1  [821867, 834484, 856942, 865456, 889248, 90795...   \n",
       "1        3  [835476, 851057, 872021, 878302, 879948, 90963...   \n",
       "\n",
       "                                          candidates  \\\n",
       "0  [856942, 9297615, 5577022, 877391, 8293439, 96...   \n",
       "1  [1092937, 1008714, 12132312, 1075979, 998206, ...   \n",
       "\n",
       "                                          model1  \\\n",
       "0    [856942, 9297615, 5577022, 877391, 8293439]   \n",
       "1  [1092937, 1008714, 12132312, 1075979, 998206]   \n",
       "\n",
       "                                            model2  \n",
       "0     [856942, 9297615, 5577022, 8293439, 9677939]  \n",
       "1  [12524016, 10456568, 1092502, 1092937, 1008714]  "
      ]
     },
     "execution_count": 523,
     "metadata": {},
     "output_type": "execute_result"
    }
   ],
   "source": [
    "# Первичная фильтрация данных\n",
    "data_train_1_2 = pd.concat([data_train_lvl_1, data_train_lvl_2])\n",
    "data_train_1_2 = prefilter_items(data_train_1_2, item_features=item_features, take_n_popular=5000)\n",
    "# Обучение модели первого уровня\n",
    "recommender = MainRecommender(data_train_1_2)\n",
    "# Получаем список актуальных покупок и кандидатов для data_val_lvl_2\n",
    "result_lvl_2 = get_actual(data_val_lvl_2)\n",
    "result_lvl_2 = get_candidates(recommender, result_lvl_2)\n",
    "# Формируем данные для второй модели\n",
    "X = get_X_data(result_lvl_2)\n",
    "# Фичи\n",
    "X = featuring(data_val_lvl_2, X)\n",
    "# Предобработка данных перед предсказанием модели 2\n",
    "X = prepare_X(X)\n",
    "# Берем топ-k предсказаний второй модели для data_val_lvl_2, ранжированных по вероятности, для каждого юзера\n",
    "model2 = get_model2(lgb, X, K)\n",
    "# Находим рекомендации по первой модели\n",
    "model1 = get_model1(recommender, result_lvl_2, K)\n",
    "# Сливаем всё в одну таблицу\n",
    "result_lvl_2 = result_lvl_2.merge(model1, on='user_id', how='left')\n",
    "result_lvl_2 = result_lvl_2.merge(model2, on='user_id', how='left')\n",
    "result_lvl_2.head(2)"
   ]
  },
  {
   "cell_type": "markdown",
   "metadata": {},
   "source": [
    "#### Вычисляем метрики на data_val_lvl_2"
   ]
  },
  {
   "cell_type": "code",
   "execution_count": 524,
   "metadata": {},
   "outputs": [
    {
     "name": "stdout",
     "output_type": "stream",
     "text": [
      " precision@k для модели первого уровня (data_val_lvl_2): 0.15563173359451518 \n",
      " precision@k для модели второго уровня (data_val_lvl_2): 0.4721759712699968\n"
     ]
    }
   ],
   "source": [
    "print(' precision@k для модели первого уровня (data_val_lvl_2):', get_precision_at_k(result_lvl_2, 'model1', K), '\\n',\n",
    "      'precision@k для модели второго уровня (data_val_lvl_2):', get_precision_at_k(result_lvl_2, 'model2', K))"
   ]
  },
  {
   "cell_type": "markdown",
   "metadata": {},
   "source": [
    "### Получим расчет для data_test"
   ]
  },
  {
   "cell_type": "markdown",
   "metadata": {},
   "source": [
    "А теперь делаем почти то же самое, только обучим первую модель на полном датасете data_train и cделаем предсказание кандидатов для data_test. Затем полученных кандидатов ранжируем второй моделью и получим предсказания для data_test."
   ]
  },
  {
   "cell_type": "code",
   "execution_count": 525,
   "metadata": {},
   "outputs": [],
   "source": [
    "data_test = pd.read_csv('../raw_data/retail_test.csv')"
   ]
  },
  {
   "cell_type": "code",
   "execution_count": 526,
   "metadata": {},
   "outputs": [
    {
     "data": {
      "application/vnd.jupyter.widget-view+json": {
       "model_id": "69fb563ccad64fe1b599f49ef97f48b7",
       "version_major": 2,
       "version_minor": 0
      },
      "text/plain": [
       "HBox(children=(FloatProgress(value=0.0, max=15.0), HTML(value='')))"
      ]
     },
     "metadata": {},
     "output_type": "display_data"
    },
    {
     "name": "stdout",
     "output_type": "stream",
     "text": [
      "\n"
     ]
    },
    {
     "data": {
      "application/vnd.jupyter.widget-view+json": {
       "model_id": "0711c007f28e4358bd7e828bfbd2e8c4",
       "version_major": 2,
       "version_minor": 0
      },
      "text/plain": [
       "HBox(children=(FloatProgress(value=0.0, max=5001.0), HTML(value='')))"
      ]
     },
     "metadata": {},
     "output_type": "display_data"
    },
    {
     "name": "stdout",
     "output_type": "stream",
     "text": [
      "\n"
     ]
    },
    {
     "data": {
      "text/html": [
       "<div>\n",
       "<style scoped>\n",
       "    .dataframe tbody tr th:only-of-type {\n",
       "        vertical-align: middle;\n",
       "    }\n",
       "\n",
       "    .dataframe tbody tr th {\n",
       "        vertical-align: top;\n",
       "    }\n",
       "\n",
       "    .dataframe thead th {\n",
       "        text-align: right;\n",
       "    }\n",
       "</style>\n",
       "<table border=\"1\" class=\"dataframe\">\n",
       "  <thead>\n",
       "    <tr style=\"text-align: right;\">\n",
       "      <th></th>\n",
       "      <th>user_id</th>\n",
       "      <th>actual</th>\n",
       "      <th>candidates</th>\n",
       "      <th>model1</th>\n",
       "      <th>model2</th>\n",
       "    </tr>\n",
       "  </thead>\n",
       "  <tbody>\n",
       "    <tr>\n",
       "      <th>0</th>\n",
       "      <td>1</td>\n",
       "      <td>[880007, 883616, 931136, 938004, 940947, 94726...</td>\n",
       "      <td>[856942, 9297615, 5577022, 8293439, 9655212, 8...</td>\n",
       "      <td>[856942, 9297615, 5577022, 8293439, 9655212]</td>\n",
       "      <td>[9527558, 991024, 5582712, 1087268, 12352054]</td>\n",
       "    </tr>\n",
       "    <tr>\n",
       "      <th>1</th>\n",
       "      <td>2</td>\n",
       "      <td>[820165, 820291, 826784, 826835, 829009, 85784...</td>\n",
       "      <td>[1103898, 911974, 1076580, 5567582, 1007414, 1...</td>\n",
       "      <td>[1103898, 911974, 1076580, 5567582, 1007414]</td>\n",
       "      <td>[1139142, 885023, 12263492, 5567582, 911974]</td>\n",
       "    </tr>\n",
       "  </tbody>\n",
       "</table>\n",
       "</div>"
      ],
      "text/plain": [
       "   user_id                                             actual  \\\n",
       "0        1  [880007, 883616, 931136, 938004, 940947, 94726...   \n",
       "1        2  [820165, 820291, 826784, 826835, 829009, 85784...   \n",
       "\n",
       "                                          candidates  \\\n",
       "0  [856942, 9297615, 5577022, 8293439, 9655212, 8...   \n",
       "1  [1103898, 911974, 1076580, 5567582, 1007414, 1...   \n",
       "\n",
       "                                         model1  \\\n",
       "0  [856942, 9297615, 5577022, 8293439, 9655212]   \n",
       "1  [1103898, 911974, 1076580, 5567582, 1007414]   \n",
       "\n",
       "                                          model2  \n",
       "0  [9527558, 991024, 5582712, 1087268, 12352054]  \n",
       "1   [1139142, 885023, 12263492, 5567582, 911974]  "
      ]
     },
     "execution_count": 526,
     "metadata": {},
     "output_type": "execute_result"
    }
   ],
   "source": [
    "# Первичная фильтрация данных\n",
    "data_train = prefilter_items(data_train, item_features=item_features, take_n_popular=5000)\n",
    "# Обучение модели первого уровня\n",
    "recommender = MainRecommender(data_train)\n",
    "# Получаем список актуальных покупок и кандидатов для data_test\n",
    "result_lvl = get_actual(data_test)\n",
    "result_lvl = get_candidates(recommender, result_lvl)\n",
    "# Формируем данные для второй модели\n",
    "X = get_X_data(result_lvl)\n",
    "# Фичи\n",
    "X = featuring(data_test, X)\n",
    "# Предобработка данных перед предсказанием модели 2\n",
    "X = prepare_X(X)\n",
    "# Берем топ-k предсказаний второй модели для data_test, ранжированных по вероятности, для каждого юзера\n",
    "model2 = get_model2(lgb, X, K)\n",
    "# Находим рекомендации по первой модели\n",
    "model1 = get_model1(recommender, result_lvl, K)\n",
    "# Сливаем всё в одну таблицу\n",
    "result_lvl = result_lvl.merge(model1, on='user_id', how='left')\n",
    "result_lvl = result_lvl.merge(model2, on='user_id', how='left')\n",
    "result_lvl.head(2)"
   ]
  },
  {
   "cell_type": "markdown",
   "metadata": {},
   "source": [
    "#### Вычисляем метрики на data_test"
   ]
  },
  {
   "cell_type": "code",
   "execution_count": 527,
   "metadata": {},
   "outputs": [
    {
     "name": "stdout",
     "output_type": "stream",
     "text": [
      " precision@k для модели первого уровня (data_test): 0.14068965517241377 \n",
      " precision@k для модели второго уровня (data_test): 0.4432979664014147\n"
     ]
    }
   ],
   "source": [
    "print(' precision@k для модели первого уровня (data_test):', get_precision_at_k(result_lvl, 'model1', K), '\\n',\n",
    "      'precision@k для модели второго уровня (data_test):', get_precision_at_k(result_lvl, 'model2', K))"
   ]
  },
  {
   "cell_type": "markdown",
   "metadata": {},
   "source": [
    "#### Результирующая метрика precision@5 с использованием 2-х моделей для тестовых данных равна 0.4432979664014147"
   ]
  },
  {
   "cell_type": "markdown",
   "metadata": {},
   "source": [
    "#### Сохранение результатов"
   ]
  },
  {
   "cell_type": "code",
   "execution_count": 528,
   "metadata": {},
   "outputs": [],
   "source": [
    "result_lvl[['user_id', 'model2']].to_csv('recommendations.csv', index=False)"
   ]
  }
 ],
 "metadata": {
  "kernelspec": {
   "display_name": "Python 3",
   "language": "python",
   "name": "python3"
  },
  "language_info": {
   "codemirror_mode": {
    "name": "ipython",
    "version": 3
   },
   "file_extension": ".py",
   "mimetype": "text/x-python",
   "name": "python",
   "nbconvert_exporter": "python",
   "pygments_lexer": "ipython3",
   "version": "3.7.7"
  }
 },
 "nbformat": 4,
 "nbformat_minor": 2
}
